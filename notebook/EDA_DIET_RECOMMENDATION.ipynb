{
 "cells": [
  {
   "cell_type": "markdown",
   "metadata": {},
   "source": [
    "# Development Cycle for Diet Recommendation System\n",
    "\n",
    " 1. Problem Definition\n",
    " 2. Data Collection\n",
    " 3. Exploratory Data Analysis (EDA)\n",
    " 4. Data Preprocessing\n",
    " 5. Feature Engineering\n",
    " 6. Model Selection\n",
    " 7. Model Training\n",
    " 8. Model Evaluation\n",
    " 9. Integration\n",
    "10. Deployment\n",
    "\n"
   ]
  },
  {
   "cell_type": "markdown",
   "metadata": {},
   "source": [
    "# 1. Problem Definition\n",
    "\n",
    "## Goal:\n",
    "To provide personalized diet recommendations based on user profiles.\n",
    "\n",
    "## Key Objectives:\n",
    "- **Analyze User Profiles**: Understand user demographics and their health-related metrics like age, weight, height, activity level, etc.\n",
    "- **Map Profiles with Food and Exercise Data**: Link the user's preferences and health information with appropriate food items and exercises.\n",
    "- **Build a Recommendation System**: Use machine learning algorithms to recommend diet plans tailored to each user's profile, incorporating their activity level, health status, and goals.\n",
    "\n",
    "---\n",
    "\n",
    "# 2. Data Collection\n",
    "\n",
    "## Datasets Used:\n",
    "\n",
    "### 1. **User Profiles Dataset**:\n",
    "Contains detailed user profiles, including:\n",
    "- **age**: The user's age.\n",
    "- **gender**: The user's gender (Male, Female, Non-Binary).\n",
    "- **height_cm**: The user's height in centimeters.\n",
    "- **weight_kg**: The user's weight in kilograms.\n",
    "- **activity_level**: The user's activity level (Sedentary, Lightly Active, Moderately Active, Very Active).\n",
    "- **diet_recommendation**: Recommended diet (e.g., Low Carb, High Protein, Balanced, Keto).\n",
    "- **blood_pressure**: Blood pressure measurement (Systolic/Diastolic).\n",
    "- **cholesterol_level**: The user's cholesterol level (Normal, Borderline, High).\n",
    "- **calorie_intake**: Daily recommended calorie intake.\n",
    "- **allergy_status**: Any known food allergies (None, Gluten, Dairy, Nuts, Eggs).\n",
    "\n",
    "This dataset helps in understanding user demographics and health status, which forms the basis of personalized recommendations.\n",
    "\n",
    "### 2. **Food Nutritional Dataset**:\n",
    "Contains nutritional information for various food items, including:\n",
    "- **food_id**: A unique identifier for each food item.\n",
    "- **food_name**: Name of the food item.\n",
    "- **calories**: Total calorie count per serving.\n",
    "- **protein**: Protein content per serving.\n",
    "- **carbs**: Carbohydrate content per serving.\n",
    "- **fat**: Fat content per serving.\n",
    "- **serving_size**: The size of a single serving (grams or milliliters).\n",
    "- **food_category**: Type of food (e.g., Fruits, Vegetables, Grains, Proteins, etc.).\n",
    "\n",
    "This dataset is essential for providing calorie and nutrient breakdowns for food recommendations.\n",
    "\n",
    "### 3. **Exercise Dataset**:\n",
    "Contains information about various exercises and their caloric burn per minute, including:\n",
    "- **exercise_id**: A unique identifier for each exercise.\n",
    "- **exercise_name**: Name of the exercise (e.g., Running, Cycling, Swimming).\n",
    "- **calories_burnt_per_minute**: Number of calories burnt per minute for the exercise.\n",
    "- **intensity_level**: Intensity of the exercise (Low, Moderate, High).\n",
    "- **duration_minutes**: Recommended duration for the exercise (minutes).\n",
    "\n",
    "This dataset helps in suggesting suitable exercises based on a user's activity level and caloric requirements.\n"
   ]
  },
  {
   "cell_type": "markdown",
   "metadata": {},
   "source": [
    "## 2.1 Importing Data and Required Packages\n",
    "\n",
    "### Steps:\n",
    "1. Import essential Python libraries for analysis and visualization.\n",
    "2. Load the datasets into Pandas DataFrames.\n",
    "3. Preview the datasets to ensure successful loading.\n",
    "\n",
    "---"
   ]
  },
  {
   "cell_type": "code",
   "execution_count": 7,
   "metadata": {},
   "outputs": [],
   "source": [
    "import pandas as pd\n",
    "import numpy as np\n",
    "import matplotlib.pyplot as plt\n",
    "import seaborn as sns"
   ]
  },
  {
   "cell_type": "markdown",
   "metadata": {},
   "source": [
    "## Importing datasets and converting it to pandas DataFrame"
   ]
  },
  {
   "cell_type": "code",
   "execution_count": 8,
   "metadata": {},
   "outputs": [],
   "source": [
    "user_profiles = pd.read_csv(r'data/user_profiles_raw.csv')\n",
    "food_data = pd.read_csv(r'data/food_nutritional_data_raw.csv')\n",
    "exercise_data = pd.read_csv(r'data/exercise_data_raw.csv')"
   ]
  },
  {
   "cell_type": "markdown",
   "metadata": {},
   "source": [
    "#### Show Top 5 Records"
   ]
  },
  {
   "cell_type": "code",
   "execution_count": 9,
   "metadata": {},
   "outputs": [
    {
     "data": {
      "text/html": [
       "<div>\n",
       "<style scoped>\n",
       "    .dataframe tbody tr th:only-of-type {\n",
       "        vertical-align: middle;\n",
       "    }\n",
       "\n",
       "    .dataframe tbody tr th {\n",
       "        vertical-align: top;\n",
       "    }\n",
       "\n",
       "    .dataframe thead th {\n",
       "        text-align: right;\n",
       "    }\n",
       "</style>\n",
       "<table border=\"1\" class=\"dataframe\">\n",
       "  <thead>\n",
       "    <tr style=\"text-align: right;\">\n",
       "      <th></th>\n",
       "      <th>version https://git-lfs.github.com/spec/v1</th>\n",
       "    </tr>\n",
       "  </thead>\n",
       "  <tbody>\n",
       "    <tr>\n",
       "      <th>0</th>\n",
       "      <td>oid sha256:dca3e1541b203f28db0f57769ea22e8ed02...</td>\n",
       "    </tr>\n",
       "    <tr>\n",
       "      <th>1</th>\n",
       "      <td>size 14709684</td>\n",
       "    </tr>\n",
       "  </tbody>\n",
       "</table>\n",
       "</div>"
      ],
      "text/plain": [
       "          version https://git-lfs.github.com/spec/v1\n",
       "0  oid sha256:dca3e1541b203f28db0f57769ea22e8ed02...\n",
       "1                                      size 14709684"
      ]
     },
     "execution_count": 9,
     "metadata": {},
     "output_type": "execute_result"
    }
   ],
   "source": [
    "user_profiles.head()"
   ]
  },
  {
   "cell_type": "code",
   "execution_count": 10,
   "metadata": {},
   "outputs": [
    {
     "data": {
      "text/html": [
       "<div>\n",
       "<style scoped>\n",
       "    .dataframe tbody tr th:only-of-type {\n",
       "        vertical-align: middle;\n",
       "    }\n",
       "\n",
       "    .dataframe tbody tr th {\n",
       "        vertical-align: top;\n",
       "    }\n",
       "\n",
       "    .dataframe thead th {\n",
       "        text-align: right;\n",
       "    }\n",
       "</style>\n",
       "<table border=\"1\" class=\"dataframe\">\n",
       "  <thead>\n",
       "    <tr style=\"text-align: right;\">\n",
       "      <th></th>\n",
       "      <th>food_item</th>\n",
       "      <th>calories</th>\n",
       "      <th>protein</th>\n",
       "      <th>carbs</th>\n",
       "      <th>fats</th>\n",
       "      <th>vitamins</th>\n",
       "      <th>minerals</th>\n",
       "      <th>allergy_risk</th>\n",
       "    </tr>\n",
       "  </thead>\n",
       "  <tbody>\n",
       "    <tr>\n",
       "      <th>0</th>\n",
       "      <td>Food_482</td>\n",
       "      <td>199</td>\n",
       "      <td>27.3</td>\n",
       "      <td>58.2</td>\n",
       "      <td>6.0</td>\n",
       "      <td>B</td>\n",
       "      <td>Zinc</td>\n",
       "      <td>Low</td>\n",
       "    </tr>\n",
       "    <tr>\n",
       "      <th>1</th>\n",
       "      <td>Food_206</td>\n",
       "      <td>183</td>\n",
       "      <td>47.5</td>\n",
       "      <td>50.6</td>\n",
       "      <td>20.9</td>\n",
       "      <td>D</td>\n",
       "      <td>Magnesium</td>\n",
       "      <td>Low</td>\n",
       "    </tr>\n",
       "    <tr>\n",
       "      <th>2</th>\n",
       "      <td>Food_309</td>\n",
       "      <td>464</td>\n",
       "      <td>44.0</td>\n",
       "      <td>57.4</td>\n",
       "      <td>16.8</td>\n",
       "      <td>E</td>\n",
       "      <td>Calcium</td>\n",
       "      <td>Medium</td>\n",
       "    </tr>\n",
       "    <tr>\n",
       "      <th>3</th>\n",
       "      <td>Food_449</td>\n",
       "      <td>244</td>\n",
       "      <td>24.7</td>\n",
       "      <td>88.7</td>\n",
       "      <td>7.3</td>\n",
       "      <td>K</td>\n",
       "      <td>Zinc</td>\n",
       "      <td>Medium</td>\n",
       "    </tr>\n",
       "    <tr>\n",
       "      <th>4</th>\n",
       "      <td>Food_168</td>\n",
       "      <td>209</td>\n",
       "      <td>18.6</td>\n",
       "      <td>22.6</td>\n",
       "      <td>14.6</td>\n",
       "      <td>A</td>\n",
       "      <td>Iron</td>\n",
       "      <td>Medium</td>\n",
       "    </tr>\n",
       "  </tbody>\n",
       "</table>\n",
       "</div>"
      ],
      "text/plain": [
       "  food_item  calories  protein  carbs  fats vitamins   minerals allergy_risk\n",
       "0  Food_482       199     27.3   58.2   6.0        B       Zinc          Low\n",
       "1  Food_206       183     47.5   50.6  20.9        D  Magnesium          Low\n",
       "2  Food_309       464     44.0   57.4  16.8        E    Calcium       Medium\n",
       "3  Food_449       244     24.7   88.7   7.3        K       Zinc       Medium\n",
       "4  Food_168       209     18.6   22.6  14.6        A       Iron       Medium"
      ]
     },
     "execution_count": 10,
     "metadata": {},
     "output_type": "execute_result"
    }
   ],
   "source": [
    "food_data.head()"
   ]
  },
  {
   "cell_type": "code",
   "execution_count": 11,
   "metadata": {},
   "outputs": [
    {
     "data": {
      "text/html": [
       "<div>\n",
       "<style scoped>\n",
       "    .dataframe tbody tr th:only-of-type {\n",
       "        vertical-align: middle;\n",
       "    }\n",
       "\n",
       "    .dataframe tbody tr th {\n",
       "        vertical-align: top;\n",
       "    }\n",
       "\n",
       "    .dataframe thead th {\n",
       "        text-align: right;\n",
       "    }\n",
       "</style>\n",
       "<table border=\"1\" class=\"dataframe\">\n",
       "  <thead>\n",
       "    <tr style=\"text-align: right;\">\n",
       "      <th></th>\n",
       "      <th>exercise_name</th>\n",
       "      <th>duration_min</th>\n",
       "      <th>intensity</th>\n",
       "      <th>calories_burned</th>\n",
       "      <th>suitable_for</th>\n",
       "    </tr>\n",
       "  </thead>\n",
       "  <tbody>\n",
       "    <tr>\n",
       "      <th>0</th>\n",
       "      <td>Exercise_92</td>\n",
       "      <td>25</td>\n",
       "      <td>Moderate</td>\n",
       "      <td>511</td>\n",
       "      <td>Moderately Active</td>\n",
       "    </tr>\n",
       "    <tr>\n",
       "      <th>1</th>\n",
       "      <td>Exercise_65</td>\n",
       "      <td>16</td>\n",
       "      <td>High</td>\n",
       "      <td>193</td>\n",
       "      <td>Moderately Active</td>\n",
       "    </tr>\n",
       "    <tr>\n",
       "      <th>2</th>\n",
       "      <td>Exercise_108</td>\n",
       "      <td>102</td>\n",
       "      <td>High</td>\n",
       "      <td>652</td>\n",
       "      <td>Sedentary</td>\n",
       "    </tr>\n",
       "    <tr>\n",
       "      <th>3</th>\n",
       "      <td>Exercise_19</td>\n",
       "      <td>75</td>\n",
       "      <td>Low</td>\n",
       "      <td>685</td>\n",
       "      <td>Moderately Active</td>\n",
       "    </tr>\n",
       "    <tr>\n",
       "      <th>4</th>\n",
       "      <td>Exercise_80</td>\n",
       "      <td>56</td>\n",
       "      <td>High</td>\n",
       "      <td>522</td>\n",
       "      <td>Lightly Active</td>\n",
       "    </tr>\n",
       "  </tbody>\n",
       "</table>\n",
       "</div>"
      ],
      "text/plain": [
       "  exercise_name  duration_min intensity  calories_burned       suitable_for\n",
       "0   Exercise_92            25  Moderate              511  Moderately Active\n",
       "1   Exercise_65            16      High              193  Moderately Active\n",
       "2  Exercise_108           102      High              652          Sedentary\n",
       "3   Exercise_19            75       Low              685  Moderately Active\n",
       "4   Exercise_80            56      High              522     Lightly Active"
      ]
     },
     "execution_count": 11,
     "metadata": {},
     "output_type": "execute_result"
    }
   ],
   "source": [
    "exercise_data.head()"
   ]
  },
  {
   "cell_type": "markdown",
   "metadata": {},
   "source": [
    "#### Shape of the dataset"
   ]
  },
  {
   "cell_type": "code",
   "execution_count": 12,
   "metadata": {},
   "outputs": [
    {
     "name": "stdout",
     "output_type": "stream",
     "text": [
      "Shape of User Data : (2, 1)\n",
      "Shape of food data : (300, 8)\n",
      "Shape of excercise data : (300, 5)\n"
     ]
    }
   ],
   "source": [
    "print(f\"Shape of User Data : {user_profiles.shape}\")\n",
    "print(f\"Shape of food data : {food_data.shape}\")\n",
    "print(f\"Shape of excercise data : {exercise_data.shape}\")"
   ]
  },
  {
   "cell_type": "markdown",
   "metadata": {},
   "source": [
    "### Checking Datatypes of each column"
   ]
  },
  {
   "cell_type": "code",
   "execution_count": 13,
   "metadata": {},
   "outputs": [
    {
     "name": "stdout",
     "output_type": "stream",
     "text": [
      "Datatypes of User Data : version https://git-lfs.github.com/spec/v1    object\n",
      "dtype: object\n",
      "Datatypes of food data : food_item        object\n",
      "calories          int64\n",
      "protein         float64\n",
      "carbs           float64\n",
      "fats            float64\n",
      "vitamins         object\n",
      "minerals         object\n",
      "allergy_risk     object\n",
      "dtype: object\n",
      "Datatypes of excercise data : exercise_name      object\n",
      "duration_min        int64\n",
      "intensity          object\n",
      "calories_burned     int64\n",
      "suitable_for       object\n",
      "dtype: object\n"
     ]
    }
   ],
   "source": [
    "print(f\"Datatypes of User Data : {user_profiles.dtypes}\")\n",
    "print(f\"Datatypes of food data : {food_data.dtypes}\")\n",
    "print(f\"Datatypes of excercise data : {exercise_data.dtypes}\")"
   ]
  },
  {
   "cell_type": "markdown",
   "metadata": {},
   "source": [
    "## 2.2 Dataset Information\n",
    "\n",
    "### 2.2.1 User Profiles Dataset\n",
    "This dataset contains user information, which includes physical attributes, lifestyle, and dietary needs. Each row represents an individual user with the following columns:\n",
    "\n",
    "- **user_id**: Unique identifier for each user.\n",
    "- **age**: Age of the user.\n",
    "- **gender**: Gender of the user.\n",
    "- **height_cm**: Height of the user in centimeters.\n",
    "- **weight_kg**: Weight of the user in kilograms.\n",
    "- **activity_level**: The activity level of the user .\n",
    "- **dit_recommendation**: The recommended diet for the user.\n",
    "- **blood_pressure**: Blood pressure of the user.\n",
    "- **cholesterol_level**: Cholesterol level of the user.\n",
    "- **calorie_intake**: Daily calorie intake.\n",
    "- **allergy_status**: Allergies the user has.\n",
    "\n",
    "This dataset has a total of 100,000 rows, with each row representing a unique user profile. The data is generated with random values for these columns, with some missing data introduced to simulate real-world scenarios. This dataset can be used to perform exploratory data analysis, outlier detection, and to train machine learning models for personalized diet recommendations.\n",
    "\n",
    "---\n",
    "\n",
    "### 2.2.2 Food Nutritional Dataset\n",
    "The Food Nutritional dataset contains nutritional information for a variety of food items. Each row represents a specific food item and contains the following columns:\n",
    "\n",
    "- **food_id**: Unique identifier for each food item.\n",
    "- **food_name**: Name of the food item.\n",
    "- **food_category**: Category of the food item (e.g., Fruits, Vegetables, Grains, Dairy, etc.).\n",
    "- **calories**: The amount of calories per serving (kcal).\n",
    "- **protein**: The amount of protein per serving (g).\n",
    "- **carbs**: The amount of carbohydrates per serving (g).\n",
    "- **fat**: The amount of fat per serving (g).\n",
    "- **fiber**: The amount of fiber per serving (g).\n",
    "- **sodium**: The amount of sodium per serving (mg).\n",
    "- **sugar**: The amount of sugar per serving (g).\n",
    "\n",
    "This dataset consists of various food items that are typically part of a balanced diet. The nutritional information is helpful in providing personalized dietary recommendations based on the user's preferences and requirements. The dataset includes food categories, which can help users select foods within specific groups (e.g., fruits, vegetables, etc.).\n",
    "\n",
    "---\n",
    "\n",
    "### 2.2.3 Exercise Data\n",
    "This dataset includes information about various exercise types and their corresponding calorie burn rates. Each row represents a specific exercise activity and contains the following columns:\n",
    "\n",
    "- **exercise_id**: Unique identifier for each exercise.\n",
    "- **exercise_name**: Name of the exercise activity (e.g., Running, Cycling, Yoga, etc.).\n",
    "- **intensity_level**: Intensity level of the exercise (Low, Moderate, High).\n",
    "- **duration_minutes**: Duration of the exercise (minutes).\n",
    "- **calories_burnt_per_minute**: The number of calories burnt per minute of exercise.\n",
    "- **muscle_group**: The primary muscle group targeted by the exercise (e.g., Legs, Core, Arms, etc.).\n",
    "\n",
    "This dataset is useful for understanding the relationship between exercise types and their impact on calorie burning, which can be an essential part of a personalized diet and fitness recommendation system.\n",
    "\n",
    "---\n",
    "\n",
    "### 2.2.4 Summary of Dataset Sizes\n",
    "- **User Profiles Dataset**: 100,000 rows, 11 columns.\n",
    "- **Food Nutritional Dataset**: 10,000 rows, 10 columns (approximately).\n",
    "- **Exercise Data**: 5,000 rows, 6 columns.\n",
    "\n",
    "The datasets are large and contain both numerical and categorical features. These datasets provide a comprehensive foundation for building a recommendation system that personalizes diet and exercise recommendations based on user profiles.\n",
    "\n",
    "---\n",
    "\n",
    "\n",
    "\n",
    "## 3. Data Checks to Perform\n",
    "\n",
    "Before diving into exploratory data analysis and preprocessing, it is crucial to perform initial data checks to understand the structure and quality of the datasets. Below are the essential checks to perform:\n",
    "\n",
    "---\n",
    "\n",
    "### 3.1 Data Integrity Checks\n",
    "- **Missing Values**: \n",
    "  - Check for missing values in each column of the datasets.\n",
    "  - Assess the percentage of missing values to decide whether to impute or drop them.\n",
    "\n",
    "- **Duplicate Rows**:\n",
    "  - Identify any duplicate rows in the datasets.\n",
    "  - Remove duplicates if they do not add any additional value to the analysis.\n",
    "\n",
    "- **Column Data Types**:\n",
    "  - Verify that each column has the expected data type (e.g., numerical, categorical, string).\n",
    "  - Convert data types if necessary (e.g., converting dates to `datetime` format).\n",
    "\n",
    "---\n",
    "\n",
    "### 3.2 Statistical Overview\n",
    "- **Descriptive Statistics**:\n",
    "  - Generate descriptive statistics for numerical columns (e.g., mean, median, standard deviation, minimum, maximum).\n",
    "  - Identify anomalies or unusual values (e.g., extremely high/low values).\n",
    "\n",
    "- **Categorical Value Distribution**:\n",
    "  - Analyze the unique values and their counts for categorical columns.\n",
    "  - Check for inconsistent or irrelevant categories (e.g., typos or out-of-scope values).\n",
    "\n",
    "---\n",
    "\n",
    "### 3.3 Consistency Checks\n",
    "- **Range Validation**:\n",
    "  - Ensure numerical columns have values within acceptable ranges (e.g., age should be between 18 and 80).\n",
    "  - Validate interdependent columns (e.g., calorie intake should align with activity level).\n",
    "\n",
    "- **Unique Identifiers**:\n",
    "  - Verify that unique identifier columns (e.g., `user_id`, `food_id`, `exercise_id`) do not have duplicates.\n",
    "\n",
    "---\n",
    "\n",
    "### 3.4 Outlier Detection\n",
    "- **Box Plot Analysis**:\n",
    "  - Use box plots to visually detect outliers in numerical columns (e.g., weight, calorie intake, duration of exercise).\n",
    "\n",
    "- **Z-Score Analysis**:\n",
    "  - Calculate Z-scores for numerical columns to identify values beyond a specific threshold (e.g., ±3 standard deviations).\n",
    "\n",
    "- **Interquartile Range (IQR)**:\n",
    "  - Compute the IQR to detect and handle extreme outliers in the datasets.\n",
    "\n",
    "---\n",
    "\n",
    "### 3.5 Data Balance\n",
    "- **Class Imbalance**:\n",
    "  - Check the balance of classes in categorical columns (e.g., gender, activity level, food categories).\n",
    "  - Address imbalances using techniques like oversampling, undersampling, or class weighting (if required for modeling).\n",
    "\n",
    "- **Sample Size**:\n",
    "  - Ensure that the datasets have a sufficient number of records for each category or feature value to build robust models.\n",
    "\n",
    "---\n",
    "\n",
    "### 3.6 Data Relationships\n",
    "- **Correlation Analysis**:\n",
    "  - Compute correlations between numerical columns to identify linear relationships.\n",
    "  - Use heatmaps to visualize the strength and direction of correlations.\n",
    "\n",
    "- **Cross-Tabulations**:\n",
    "  - Explore relationships between categorical columns using cross-tabulations or group-by operations.\n",
    "\n",
    "---\n",
    "\n",
    "### 3.7 Data Distribution\n",
    "- **Skewness and Kurtosis**:\n",
    "  - Assess the distribution of numerical features to identify skewness and non-normal distributions.\n",
    "  - Apply transformations (e.g., log, square root) if needed for highly skewed data.\n",
    "\n",
    "- **Visualization**:\n",
    "  - Use histograms, KDE plots, or bar charts to visualize the distribution of each column.\n",
    "\n",
    "---\n",
    "\n",
    "### 3.8 Dataset Summary\n",
    "After performing the above checks:\n",
    "- Summarize findings about data quality and integrity.\n",
    "- Create a plan for handling identified issues (e.g., missing values, outliers, inconsistent data types).\n",
    "- Highlight any key observations or insights from the initial data checks.\n",
    "\n",
    "---\n"
   ]
  },
  {
   "cell_type": "markdown",
   "metadata": {},
   "source": [
    "### 1. Checking Missing  Values"
   ]
  },
  {
   "cell_type": "code",
   "execution_count": 14,
   "metadata": {},
   "outputs": [
    {
     "data": {
      "text/plain": [
       "version https://git-lfs.github.com/spec/v1    0\n",
       "dtype: int64"
      ]
     },
     "execution_count": 14,
     "metadata": {},
     "output_type": "execute_result"
    }
   ],
   "source": [
    "# check for missing values in user_profiles\n",
    "user_profiles.isna().sum()"
   ]
  },
  {
   "cell_type": "code",
   "execution_count": 15,
   "metadata": {},
   "outputs": [
    {
     "data": {
      "text/plain": [
       "food_item        0\n",
       "calories         0\n",
       "protein          0\n",
       "carbs            0\n",
       "fats             0\n",
       "vitamins        48\n",
       "minerals        62\n",
       "allergy_risk     0\n",
       "dtype: int64"
      ]
     },
     "execution_count": 15,
     "metadata": {},
     "output_type": "execute_result"
    }
   ],
   "source": [
    "# checking for missing values in food data\n",
    "food_data.isna().sum()"
   ]
  },
  {
   "cell_type": "code",
   "execution_count": 16,
   "metadata": {},
   "outputs": [
    {
     "data": {
      "text/plain": [
       "exercise_name      0\n",
       "duration_min       0\n",
       "intensity          0\n",
       "calories_burned    0\n",
       "suitable_for       0\n",
       "dtype: int64"
      ]
     },
     "execution_count": 16,
     "metadata": {},
     "output_type": "execute_result"
    }
   ],
   "source": [
    "# checking missing values in exercise_data\n",
    "exercise_data.isna().sum()"
   ]
  },
  {
   "cell_type": "markdown",
   "metadata": {},
   "source": [
    "### Handling Missing Values Accordingly"
   ]
  },
  {
   "cell_type": "code",
   "execution_count": 17,
   "metadata": {},
   "outputs": [
    {
     "ename": "KeyError",
     "evalue": "'height_cm'",
     "output_type": "error",
     "traceback": [
      "\u001b[0;31m---------------------------------------------------------------------------\u001b[0m",
      "\u001b[0;31mKeyError\u001b[0m                                  Traceback (most recent call last)",
      "File \u001b[0;32m~/Desktop/diet_recommendation/.venv/lib/python3.12/site-packages/pandas/core/indexes/base.py:3805\u001b[0m, in \u001b[0;36mIndex.get_loc\u001b[0;34m(self, key)\u001b[0m\n\u001b[1;32m   3804\u001b[0m \u001b[38;5;28;01mtry\u001b[39;00m:\n\u001b[0;32m-> 3805\u001b[0m     \u001b[38;5;28;01mreturn\u001b[39;00m \u001b[38;5;28;43mself\u001b[39;49m\u001b[38;5;241;43m.\u001b[39;49m\u001b[43m_engine\u001b[49m\u001b[38;5;241;43m.\u001b[39;49m\u001b[43mget_loc\u001b[49m\u001b[43m(\u001b[49m\u001b[43mcasted_key\u001b[49m\u001b[43m)\u001b[49m\n\u001b[1;32m   3806\u001b[0m \u001b[38;5;28;01mexcept\u001b[39;00m \u001b[38;5;167;01mKeyError\u001b[39;00m \u001b[38;5;28;01mas\u001b[39;00m err:\n",
      "File \u001b[0;32mindex.pyx:167\u001b[0m, in \u001b[0;36mpandas._libs.index.IndexEngine.get_loc\u001b[0;34m()\u001b[0m\n",
      "File \u001b[0;32mindex.pyx:196\u001b[0m, in \u001b[0;36mpandas._libs.index.IndexEngine.get_loc\u001b[0;34m()\u001b[0m\n",
      "File \u001b[0;32mpandas/_libs/hashtable_class_helper.pxi:7081\u001b[0m, in \u001b[0;36mpandas._libs.hashtable.PyObjectHashTable.get_item\u001b[0;34m()\u001b[0m\n",
      "File \u001b[0;32mpandas/_libs/hashtable_class_helper.pxi:7089\u001b[0m, in \u001b[0;36mpandas._libs.hashtable.PyObjectHashTable.get_item\u001b[0;34m()\u001b[0m\n",
      "\u001b[0;31mKeyError\u001b[0m: 'height_cm'",
      "\nThe above exception was the direct cause of the following exception:\n",
      "\u001b[0;31mKeyError\u001b[0m                                  Traceback (most recent call last)",
      "Cell \u001b[0;32mIn[17], line 21\u001b[0m\n\u001b[1;32m      1\u001b[0m \u001b[38;5;124;03m\"\"\"\u001b[39;00m\n\u001b[1;32m      2\u001b[0m \u001b[38;5;124;03mthe data type of each column are:\u001b[39;00m\n\u001b[1;32m      3\u001b[0m \u001b[38;5;124;03mDatatypes of User Data : \u001b[39;00m\n\u001b[0;32m   (...)\u001b[0m\n\u001b[1;32m     18\u001b[0m \n\u001b[1;32m     19\u001b[0m \u001b[38;5;124;03m\"\"\"\u001b[39;00m\n\u001b[1;32m     20\u001b[0m \u001b[38;5;66;03m# missing values in height column is filled with median of the column\u001b[39;00m\n\u001b[0;32m---> 21\u001b[0m user_profiles[\u001b[38;5;124m'\u001b[39m\u001b[38;5;124mheight_cm\u001b[39m\u001b[38;5;124m'\u001b[39m] \u001b[38;5;241m=\u001b[39m \u001b[43muser_profiles\u001b[49m\u001b[43m[\u001b[49m\u001b[38;5;124;43m'\u001b[39;49m\u001b[38;5;124;43mheight_cm\u001b[39;49m\u001b[38;5;124;43m'\u001b[39;49m\u001b[43m]\u001b[49m\u001b[38;5;241m.\u001b[39mfillna(user_profiles[\u001b[38;5;124m'\u001b[39m\u001b[38;5;124mheight_cm\u001b[39m\u001b[38;5;124m'\u001b[39m]\u001b[38;5;241m.\u001b[39mmedian())\n",
      "File \u001b[0;32m~/Desktop/diet_recommendation/.venv/lib/python3.12/site-packages/pandas/core/frame.py:4102\u001b[0m, in \u001b[0;36mDataFrame.__getitem__\u001b[0;34m(self, key)\u001b[0m\n\u001b[1;32m   4100\u001b[0m \u001b[38;5;28;01mif\u001b[39;00m \u001b[38;5;28mself\u001b[39m\u001b[38;5;241m.\u001b[39mcolumns\u001b[38;5;241m.\u001b[39mnlevels \u001b[38;5;241m>\u001b[39m \u001b[38;5;241m1\u001b[39m:\n\u001b[1;32m   4101\u001b[0m     \u001b[38;5;28;01mreturn\u001b[39;00m \u001b[38;5;28mself\u001b[39m\u001b[38;5;241m.\u001b[39m_getitem_multilevel(key)\n\u001b[0;32m-> 4102\u001b[0m indexer \u001b[38;5;241m=\u001b[39m \u001b[38;5;28;43mself\u001b[39;49m\u001b[38;5;241;43m.\u001b[39;49m\u001b[43mcolumns\u001b[49m\u001b[38;5;241;43m.\u001b[39;49m\u001b[43mget_loc\u001b[49m\u001b[43m(\u001b[49m\u001b[43mkey\u001b[49m\u001b[43m)\u001b[49m\n\u001b[1;32m   4103\u001b[0m \u001b[38;5;28;01mif\u001b[39;00m is_integer(indexer):\n\u001b[1;32m   4104\u001b[0m     indexer \u001b[38;5;241m=\u001b[39m [indexer]\n",
      "File \u001b[0;32m~/Desktop/diet_recommendation/.venv/lib/python3.12/site-packages/pandas/core/indexes/base.py:3812\u001b[0m, in \u001b[0;36mIndex.get_loc\u001b[0;34m(self, key)\u001b[0m\n\u001b[1;32m   3807\u001b[0m     \u001b[38;5;28;01mif\u001b[39;00m \u001b[38;5;28misinstance\u001b[39m(casted_key, \u001b[38;5;28mslice\u001b[39m) \u001b[38;5;129;01mor\u001b[39;00m (\n\u001b[1;32m   3808\u001b[0m         \u001b[38;5;28misinstance\u001b[39m(casted_key, abc\u001b[38;5;241m.\u001b[39mIterable)\n\u001b[1;32m   3809\u001b[0m         \u001b[38;5;129;01mand\u001b[39;00m \u001b[38;5;28many\u001b[39m(\u001b[38;5;28misinstance\u001b[39m(x, \u001b[38;5;28mslice\u001b[39m) \u001b[38;5;28;01mfor\u001b[39;00m x \u001b[38;5;129;01min\u001b[39;00m casted_key)\n\u001b[1;32m   3810\u001b[0m     ):\n\u001b[1;32m   3811\u001b[0m         \u001b[38;5;28;01mraise\u001b[39;00m InvalidIndexError(key)\n\u001b[0;32m-> 3812\u001b[0m     \u001b[38;5;28;01mraise\u001b[39;00m \u001b[38;5;167;01mKeyError\u001b[39;00m(key) \u001b[38;5;28;01mfrom\u001b[39;00m \u001b[38;5;21;01merr\u001b[39;00m\n\u001b[1;32m   3813\u001b[0m \u001b[38;5;28;01mexcept\u001b[39;00m \u001b[38;5;167;01mTypeError\u001b[39;00m:\n\u001b[1;32m   3814\u001b[0m     \u001b[38;5;66;03m# If we have a listlike key, _check_indexing_error will raise\u001b[39;00m\n\u001b[1;32m   3815\u001b[0m     \u001b[38;5;66;03m#  InvalidIndexError. Otherwise we fall through and re-raise\u001b[39;00m\n\u001b[1;32m   3816\u001b[0m     \u001b[38;5;66;03m#  the TypeError.\u001b[39;00m\n\u001b[1;32m   3817\u001b[0m     \u001b[38;5;28mself\u001b[39m\u001b[38;5;241m.\u001b[39m_check_indexing_error(key)\n",
      "\u001b[0;31mKeyError\u001b[0m: 'height_cm'"
     ]
    }
   ],
   "source": [
    "\"\"\"\n",
    "the data type of each column are:\n",
    "Datatypes of User Data : \n",
    "user_id                 object\n",
    "age                      int64\n",
    "gender                  object\n",
    "height_cm              float64\n",
    "weight_kg              float64\n",
    "activity_level          object\n",
    "diet_recommendation     object\n",
    "blood_pressure          object\n",
    "cholesterol_level       object\n",
    "calorie_intake         float64\n",
    "allergy_status          object\n",
    "dtype: object\n",
    "\n",
    "\n",
    "\n",
    "\"\"\"\n",
    "# missing values in height column is filled with median of the column\n",
    "user_profiles['height_cm'] = user_profiles['height_cm'].fillna(user_profiles['height_cm'].median())\n",
    "\n",
    "\n"
   ]
  },
  {
   "cell_type": "code",
   "execution_count": null,
   "metadata": {},
   "outputs": [],
   "source": [
    "# diet_recomendation is the output feature, so we are dropping the rows with null value for accurecy\n",
    "\n",
    "user_profiles = user_profiles.dropna(subset=['diet_recommendation'])\n"
   ]
  },
  {
   "cell_type": "code",
   "execution_count": null,
   "metadata": {},
   "outputs": [],
   "source": [
    "# missing values in the blood pressure column will be filled with Mode.\n",
    "user_profiles['blood_pressure'] = user_profiles[\"blood_pressure\"].fillna(user_profiles[\"blood_pressure\"].mode()[0])\n"
   ]
  },
  {
   "cell_type": "code",
   "execution_count": null,
   "metadata": {},
   "outputs": [],
   "source": [
    "# the allergy_statuscolumn have None value columns which indicates no allergies, so covert the none values to No Allergies\n",
    "\n",
    "# Replace None (or NaN) values in 'allergy_status' column with 'No Allergies'\n",
    "user_profiles['allergy_status'] = user_profiles['allergy_status'].fillna('No Allergies')\n"
   ]
  },
  {
   "cell_type": "code",
   "execution_count": null,
   "metadata": {},
   "outputs": [],
   "source": [
    "# check if the missing values are filled.\n",
    "user_profiles.isna().sum()"
   ]
  },
  {
   "cell_type": "markdown",
   "metadata": {},
   "source": [
    "### Checking for any duplicate values"
   ]
  },
  {
   "cell_type": "code",
   "execution_count": null,
   "metadata": {},
   "outputs": [],
   "source": [
    "user_profiles.duplicated().sum()"
   ]
  },
  {
   "cell_type": "markdown",
   "metadata": {},
   "source": [
    "### Checking for the unique values in each column"
   ]
  },
  {
   "cell_type": "code",
   "execution_count": null,
   "metadata": {},
   "outputs": [],
   "source": [
    "user_profiles.nunique()"
   ]
  },
  {
   "cell_type": "markdown",
   "metadata": {},
   "source": [
    "### Data Exploration\n",
    "\n",
    "checking the values in each columns."
   ]
  },
  {
   "cell_type": "code",
   "execution_count": null,
   "metadata": {},
   "outputs": [],
   "source": [
    "print(\"unique values in the column age : \")\n",
    "print(user_profiles[\"age\"].unique())\n",
    "\n",
    "print(\"unique values in gender : \")\n",
    "print(user_profiles[\"gender\"].unique())\n",
    "\n",
    "# print(\"unique values in the columns height_cm : \")\n",
    "# print(user_profiles[\"height_cm\"].unique())\n",
    "\n",
    "# print(\"unique values in the column weight_kg : \")\n",
    "# print(user_profiles[\"weight_kg\"].unique())\n",
    "\n",
    "print(\"unique values in the column activity level : \")\n",
    "print(user_profiles[\"activity_level\"].unique())\n",
    "\n",
    "print(\"unique values in the column diet_recommendation : \")\n",
    "print(user_profiles[\"diet_recommendation\"].unique())\n",
    "\n",
    "print(\"unique values in the column cholesterol_level : \")\n",
    "print(user_profiles[\"cholesterol_level\"].unique())\n",
    "\n",
    "print(\"unique values in the column allergy_status : \")\n",
    "print(user_profiles[\"allergy_status\"].unique())"
   ]
  },
  {
   "cell_type": "markdown",
   "metadata": {},
   "source": [
    "### Defining numerical features and categorical features.\n"
   ]
  },
  {
   "cell_type": "code",
   "execution_count": null,
   "metadata": {},
   "outputs": [],
   "source": [
    "# assigning numeric and categorical features\n",
    "\n",
    "numeric_features = [feature for feature in user_profiles.columns if user_profiles[feature].dtype != \"O\"]\n",
    "categorical_features = [feature for feature in user_profiles.columns if user_profiles[feature].dtype == \"O\"]\n",
    "\n",
    "\n",
    "# printing the feature columns\n",
    "\n",
    "print(f\"The numeric features are : {numeric_features}, \\n The categorical features are : {categorical_features}\")\n",
    "\n"
   ]
  },
  {
   "cell_type": "markdown",
   "metadata": {},
   "source": [
    "### Dropping unnecessary features\n"
   ]
  },
  {
   "cell_type": "code",
   "execution_count": null,
   "metadata": {},
   "outputs": [],
   "source": [
    "# the column user id is not important for the prediction so we are dropping it.\n",
    "\n",
    "user_profiles = user_profiles.drop(\"user_id\", axis=1)\n",
    "user_profiles.head()"
   ]
  },
  {
   "attachments": {
    "image.png": {
     "image/png": "[encoded data removed]"
    }
   },
   "cell_type": "markdown",
   "metadata": {},
   "source": [
    "### Converting Weight and Height to BMI and Dropping Original Features\n",
    "\n",
    "To simplify the feature set and reduce redundancy, we calculate the Body Mass Index (BMI) from the `height_cm` and `weight_kg` columns using the formula:\n",
    "\n",
    "![image.png](attachment:image.png)\n",
    "\n",
    "Once the BMI is calculated:\n",
    "\n",
    "- The `height_cm` and `weight_kg` columns are no longer required for the analysis and will be dropped.\n",
    "- This helps in reducing feature dimensionality and ensures the dataset remains concise while retaining meaningful information.\n"
   ]
  },
  {
   "cell_type": "code",
   "execution_count": null,
   "metadata": {},
   "outputs": [],
   "source": [
    "# Calculate BMI\n",
    "user_profiles['BMI'] = (user_profiles['weight_kg'] / ((user_profiles['height_cm'] / 100) ** 2)).round(1)\n",
    "\n",
    "# Drop height_cm and weight_kg columns\n",
    "user_profiles = user_profiles.drop(['height_cm', 'weight_kg'], axis=1)\n",
    "\n",
    "# Checking the first few rows to confirm changes\n",
    "user_profiles.head()"
   ]
  },
  {
   "cell_type": "markdown",
   "metadata": {},
   "source": [
    "### Exploring Data (Visuallisation):\n"
   ]
  },
  {
   "cell_type": "markdown",
   "metadata": {},
   "source": [
    "#### 1. Age distribution"
   ]
  },
  {
   "cell_type": "code",
   "execution_count": null,
   "metadata": {},
   "outputs": [],
   "source": [
    "import seaborn as sns\n",
    "import matplotlib.pyplot as plt\n",
    "\n",
    "# Age distribution\n",
    "plt.figure(figsize=(10, 6))\n",
    "sns.histplot(user_profiles['age'], kde=True, bins=30, color='skyblue')\n",
    "plt.title('Age Distribution', fontsize=16)\n",
    "plt.xlabel('Age', fontsize=12)\n",
    "plt.ylabel('Frequency', fontsize=12)\n",
    "plt.show()\n"
   ]
  },
  {
   "cell_type": "markdown",
   "metadata": {},
   "source": [
    "##### **Insights:**\n",
    "\n",
    "-  almost all age groups covers evenly except for age group below 20, age group 50 and age group 88-89 are higher than normal.\n"
   ]
  },
  {
   "cell_type": "markdown",
   "metadata": {},
   "source": [
    "#### 2. Gender Count"
   ]
  },
  {
   "cell_type": "code",
   "execution_count": null,
   "metadata": {},
   "outputs": [],
   "source": [
    "# Gender count\n",
    "plt.figure(figsize=(8, 6))\n",
    "sns.countplot(x='gender', data=user_profiles, palette='pastel')\n",
    "plt.title('Gender Distribution', fontsize=16)\n",
    "plt.xlabel('Gender', fontsize=12)\n",
    "plt.ylabel('Count', fontsize=12)\n",
    "plt.show()\n"
   ]
  },
  {
   "cell_type": "markdown",
   "metadata": {},
   "source": [
    "**Insights:**\n",
    "\n",
    "- the genders male and females are almost distributed evenly.\n",
    "- the Non-Binary People shares a small amount."
   ]
  },
  {
   "cell_type": "markdown",
   "metadata": {},
   "source": [
    "#### 3. Activity Level Distribution"
   ]
  },
  {
   "cell_type": "code",
   "execution_count": null,
   "metadata": {},
   "outputs": [],
   "source": [
    "# Activity level count\n",
    "plt.figure(figsize=(8, 6))\n",
    "sns.countplot(x='activity_level', data=user_profiles, order=user_profiles['activity_level'].value_counts().index)\n",
    "plt.title('Activity Level Distribution', fontsize=16)\n",
    "plt.xlabel('Activity Level', fontsize=12)\n",
    "plt.ylabel('Count', fontsize=12)\n",
    "plt.xticks(rotation=45)\n",
    "plt.show()\n"
   ]
  },
  {
   "cell_type": "markdown",
   "metadata": {},
   "source": [
    "**Insights:**\n",
    "\n",
    "- Sedentary is the most common activity level.\n",
    "- Very Active is the least common activity level."
   ]
  },
  {
   "cell_type": "markdown",
   "metadata": {},
   "source": [
    "#### 4. BMI Distribution\n"
   ]
  },
  {
   "cell_type": "code",
   "execution_count": null,
   "metadata": {},
   "outputs": [],
   "source": [
    "# BMI distribution\n",
    "plt.figure(figsize=(10, 6))\n",
    "sns.histplot(user_profiles['BMI'], kde=True, color='purple', bins=30)\n",
    "plt.title('BMI Distribution', fontsize=16)\n",
    "plt.xlabel('BMI', fontsize=12)\n",
    "plt.ylabel('Frequency', fontsize=12)\n",
    "plt.show()\n"
   ]
  },
  {
   "cell_type": "markdown",
   "metadata": {},
   "source": [
    "**Insights:**\n",
    "\n",
    "- Most propotion of user are in the 20 to 30 BMI Ranges.\n",
    "- Focus recommendations on users in unhealthy BMI categories."
   ]
  },
  {
   "cell_type": "markdown",
   "metadata": {},
   "source": [
    "#### 5. Calorie Intake by Activity Level\n"
   ]
  },
  {
   "cell_type": "code",
   "execution_count": null,
   "metadata": {},
   "outputs": [],
   "source": [
    "# Boxplot of calorie intake by activity level\n",
    "plt.figure(figsize=(10, 6))\n",
    "sns.boxplot(x='activity_level', y='calorie_intake', data=user_profiles, palette='coolwarm')\n",
    "plt.title('Calorie Intake by Activity Level', fontsize=16)\n",
    "plt.xlabel('Activity Level', fontsize=12)\n",
    "plt.ylabel('Calorie Intake', fontsize=12)\n",
    "plt.xticks(rotation=45)\n",
    "plt.show()\n"
   ]
  },
  {
   "cell_type": "markdown",
   "metadata": {},
   "source": [
    "Insights:\n",
    "\n",
    "- Very active people tends to take more calories.\n",
    "- there are some outliers are in the colorie intake, will have to reaplace it with the mean value later."
   ]
  },
  {
   "cell_type": "markdown",
   "metadata": {},
   "source": [
    "#### 6. Cholesterol Levels by Age Group"
   ]
  },
  {
   "cell_type": "code",
   "execution_count": null,
   "metadata": {},
   "outputs": [],
   "source": [
    "# Create age groups\n",
    "user_profiles['age_group'] = pd.cut(user_profiles['age'], bins=[18, 30, 50, 80], labels=['18-30', '31-50', '51-80'])\n",
    "\n",
    "# Countplot of cholesterol levels by age group\n",
    "plt.figure(figsize=(10, 6))\n",
    "sns.countplot(x='age_group', hue='cholesterol_level', data=user_profiles, palette='Set2')\n",
    "plt.title('Cholesterol Levels by Age Group', fontsize=16)\n",
    "plt.xlabel('Age Group', fontsize=12)\n",
    "plt.ylabel('Count', fontsize=12)\n",
    "plt.show()\n"
   ]
  },
  {
   "cell_type": "markdown",
   "metadata": {},
   "source": [
    "**Insights:**\n",
    "\n",
    "- Check which age groups have higher cholesterol levels.\n",
    "- Tailor recommendations for managing cholesterol levels in specific age groups."
   ]
  },
  {
   "cell_type": "markdown",
   "metadata": {},
   "source": [
    "#### 7. Diet Recommendations\n"
   ]
  },
  {
   "cell_type": "code",
   "execution_count": null,
   "metadata": {},
   "outputs": [],
   "source": [
    "# Diet recommendation count\n",
    "plt.figure(figsize=(8, 6))\n",
    "sns.countplot(x='diet_recommendation', data=user_profiles, palette='spring', order=user_profiles['diet_recommendation'].value_counts().index)\n",
    "plt.title('Diet Recommendations Distribution', fontsize=16)\n",
    "plt.xlabel('Diet Recommendation', fontsize=12)\n",
    "plt.ylabel('Count', fontsize=12)\n",
    "plt.xticks(rotation=45)\n",
    "plt.show()\n",
    "\n"
   ]
  },
  {
   "cell_type": "code",
   "execution_count": null,
   "metadata": {},
   "outputs": [],
   "source": []
  }
 ],
 "metadata": {
  "kernelspec": {
   "display_name": ".venv",
   "language": "python",
   "name": "python3"
  },
  "language_info": {
   "codemirror_mode": {
    "name": "ipython",
    "version": 3
   },
   "file_extension": ".py",
   "mimetype": "text/x-python",
   "name": "python",
   "nbconvert_exporter": "python",
   "pygments_lexer": "ipython3",
   "version": "3.12.3"
  }
 },
 "nbformat": 4,
 "nbformat_minor": 2
}
