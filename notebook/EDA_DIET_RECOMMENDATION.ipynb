{
 "cells": [
  {
   "cell_type": "markdown",
   "metadata": {},
   "source": [
    "# Development Cycle for Diet Recommendation System\n",
    "\n",
    " 1. Problem Definition\n",
    " 2. Data Collection\n",
    " 3. Exploratory Data Analysis (EDA)\n",
    " 4. Data Preprocessing\n",
    " 5. Feature Engineering\n",
    " 6. Model Selection\n",
    " 7. Model Training\n",
    " 8. Model Evaluation\n",
    " 9. Integration\n",
    "10. Deployment\n",
    "\n"
   ]
  },
  {
   "cell_type": "markdown",
   "metadata": {},
   "source": [
    "# 1. Problem Definition\n",
    "\n",
    "## Goal:\n",
    "To provide personalized diet recommendations based on user profiles.\n",
    "\n",
    "## Key Objectives:\n",
    "- **Analyze User Profiles**: Understand user demographics and their health-related metrics like age, weight, height, activity level, etc.\n",
    "- **Map Profiles with Food and Exercise Data**: Link the user's preferences and health information with appropriate food items and exercises.\n",
    "- **Build a Recommendation System**: Use machine learning algorithms to recommend diet plans tailored to each user's profile, incorporating their activity level, health status, and goals.\n",
    "\n",
    "---\n",
    "\n",
    "# 2. Data Collection\n",
    "\n",
    "## Datasets Used:\n",
    "\n",
    "### 1. **User Profiles Dataset**:\n",
    "Contains detailed user profiles, including:\n",
    "- **age**: The user's age.\n",
    "- **gender**: The user's gender (Male, Female, Non-Binary).\n",
    "- **height_cm**: The user's height in centimeters.\n",
    "- **weight_kg**: The user's weight in kilograms.\n",
    "- **activity_level**: The user's activity level (Sedentary, Lightly Active, Moderately Active, Very Active).\n",
    "- **diet_recommendation**: Recommended diet (e.g., Low Carb, High Protein, Balanced, Keto).\n",
    "- **blood_pressure**: Blood pressure measurement (Systolic/Diastolic).\n",
    "- **cholesterol_level**: The user's cholesterol level (Normal, Borderline, High).\n",
    "- **calorie_intake**: Daily recommended calorie intake.\n",
    "- **allergy_status**: Any known food allergies (None, Gluten, Dairy, Nuts, Eggs).\n",
    "\n",
    "This dataset helps in understanding user demographics and health status, which forms the basis of personalized recommendations.\n",
    "\n",
    "### 2. **Food Nutritional Dataset**:\n",
    "Contains nutritional information for various food items, including:\n",
    "- **food_id**: A unique identifier for each food item.\n",
    "- **food_name**: Name of the food item.\n",
    "- **calories**: Total calorie count per serving.\n",
    "- **protein**: Protein content per serving.\n",
    "- **carbs**: Carbohydrate content per serving.\n",
    "- **fat**: Fat content per serving.\n",
    "- **serving_size**: The size of a single serving (grams or milliliters).\n",
    "- **food_category**: Type of food (e.g., Fruits, Vegetables, Grains, Proteins, etc.).\n",
    "\n",
    "This dataset is essential for providing calorie and nutrient breakdowns for food recommendations.\n",
    "\n",
    "### 3. **Exercise Dataset**:\n",
    "Contains information about various exercises and their caloric burn per minute, including:\n",
    "- **exercise_id**: A unique identifier for each exercise.\n",
    "- **exercise_name**: Name of the exercise (e.g., Running, Cycling, Swimming).\n",
    "- **calories_burnt_per_minute**: Number of calories burnt per minute for the exercise.\n",
    "- **intensity_level**: Intensity of the exercise (Low, Moderate, High).\n",
    "- **duration_minutes**: Recommended duration for the exercise (minutes).\n",
    "\n",
    "This dataset helps in suggesting suitable exercises based on a user's activity level and caloric requirements.\n"
   ]
  },
  {
   "cell_type": "markdown",
   "metadata": {},
   "source": [
    "## 2.1 Importing Data and Required Packages\n",
    "\n",
    "### Steps:\n",
    "1. Import essential Python libraries for analysis and visualization.\n",
    "2. Load the datasets into Pandas DataFrames.\n",
    "3. Preview the datasets to ensure successful loading.\n",
    "\n",
    "---"
   ]
  },
  {
   "cell_type": "code",
   "execution_count": 1,
   "metadata": {},
   "outputs": [],
   "source": [
    "import pandas as pd\n",
    "import numpy as np\n",
    "import matplotlib.pyplot as plt\n",
    "import seaborn as sns"
   ]
  },
  {
   "cell_type": "markdown",
   "metadata": {},
   "source": [
    "## Importing datasets and converting it to pandas DataFrame"
   ]
  },
  {
   "cell_type": "markdown",
   "metadata": {},
   "source": []
  }
 ],
 "metadata": {
  "kernelspec": {
   "display_name": "Python 3",
   "language": "python",
   "name": "python3"
  },
  "language_info": {
   "codemirror_mode": {
    "name": "ipython",
    "version": 3
   },
   "file_extension": ".py",
   "mimetype": "text/x-python",
   "name": "python",
   "nbconvert_exporter": "python",
   "pygments_lexer": "ipython3",
   "version": "3.12.5"
  }
 },
 "nbformat": 4,
 "nbformat_minor": 2
}
